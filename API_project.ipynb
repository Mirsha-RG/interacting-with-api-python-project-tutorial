{
  "nbformat": 4,
  "nbformat_minor": 0,
  "metadata": {
    "colab": {
      "provenance": [],
      "authorship_tag": "ABX9TyM32MhphS5zbr26DiksUJOg",
      "include_colab_link": true
    },
    "kernelspec": {
      "name": "python3",
      "display_name": "Python 3"
    },
    "language_info": {
      "name": "python"
    }
  },
  "cells": [
    {
      "cell_type": "markdown",
      "metadata": {
        "id": "view-in-github",
        "colab_type": "text"
      },
      "source": [
        "<a href=\"https://colab.research.google.com/github/Mirsha-RG/interacting-with-api-python-project-tutorial/blob/main/API_project.ipynb\" target=\"_parent\"><img src=\"https://colab.research.google.com/assets/colab-badge.svg\" alt=\"Open In Colab\"/></a>"
      ]
    },
    {
      "cell_type": "code",
      "source": [
        "#!pip install spotipy\n",
        "#!pip install dotenv\n",
        "#!pip install spotipy --upgrade"
      ],
      "metadata": {
        "id": "G1ydQdfJOsJW"
      },
      "execution_count": 121,
      "outputs": []
    },
    {
      "cell_type": "code",
      "execution_count": 73,
      "metadata": {
        "id": "LUiQIn1fI0Jd"
      },
      "outputs": [],
      "source": [
        "import requests\n",
        "import os\n",
        "import pandas as pd\n",
        "from IPython.display import Image, display\n",
        "from dotenv import load_dotenv\n",
        "import matplotlib.pyplot as plt\n",
        "import spotipy\n",
        "from spotipy.oauth2 import SpotifyClientCredentials\n",
        "\n"
      ]
    },
    {
      "cell_type": "markdown",
      "source": [
        "#Inicializar la biblioteca Spotipy"
      ],
      "metadata": {
        "id": "x1YkURAPhTmU"
      }
    },
    {
      "cell_type": "code",
      "source": [
        "CLIENT_ID= '758d179e50ee4ca88f977ae2d2dcbbab'\n",
        "CLIENT_SECRET= 'ac129f78d1a24afa9a40b8574d86532d'"
      ],
      "metadata": {
        "id": "74eGtJ81R1H1"
      },
      "execution_count": 74,
      "outputs": []
    },
    {
      "cell_type": "code",
      "source": [
        "spotify = spotipy.Spotify(client_credentials_manager=SpotifyClientCredentials(client_id=CLIENT_ID, client_secret=CLIENT_SECRET))"
      ],
      "metadata": {
        "id": "qFivWVJyhnKM"
      },
      "execution_count": 122,
      "outputs": []
    },
    {
      "cell_type": "code",
      "source": [
        "# comprobar que la conexion es aprobada\n",
        "def check_conexion (URL):\n",
        "  respuesta = requests.get(url)\n",
        "  # Verificamos que la solicitud fue exitosa\n",
        "  if respuesta.status_code == 200:\n",
        "    return print(\"Conexión exitosa\")\n",
        "  else:\n",
        "    return print(\"Error al conectarse:\", respuesta.status_code)"
      ],
      "metadata": {
        "id": "rRmyUMGYNmiU"
      },
      "execution_count": 86,
      "outputs": []
    },
    {
      "cell_type": "code",
      "source": [
        "url = 'https://open.spotify.com/artist/3DiDSECUqqY1AuBP8qtaIa'\n",
        "check_conexion(url)"
      ],
      "metadata": {
        "colab": {
          "base_uri": "https://localhost:8080/"
        },
        "id": "9PkTUkVVOBm8",
        "outputId": "756f0fde-6d2f-433c-d3f5-ece4f12a08f7"
      },
      "execution_count": 90,
      "outputs": [
        {
          "output_type": "stream",
          "name": "stdout",
          "text": [
            "Conexión exitosa\n"
          ]
        }
      ]
    },
    {
      "cell_type": "markdown",
      "source": [
        "#Realizar solicitudes a la API"
      ],
      "metadata": {
        "id": "0Of0JWkkhf9D"
      }
    },
    {
      "cell_type": "code",
      "source": [
        "# Seleccion del artista\n",
        "birdy_uri = 'spotify:artist:3DiDSECUqqY1AuBP8qtaIa'\n",
        "results = spotify.artist_albums(birdy_uri, album_type='album')\n",
        "albums = results['items']\n",
        "artistId = '3DiDSECUqqY1AuBP8qtaIa'\n",
        "top = spotify.artist_top_tracks(artistId)"
      ],
      "metadata": {
        "id": "jWso8OLNYJwW"
      },
      "execution_count": 126,
      "outputs": []
    },
    {
      "cell_type": "code",
      "source": [
        "# albums existentes en spotify\n",
        "while results['next']:\n",
        "    results = spotify.next(results)\n",
        "    albums.extend(results['items'])\n",
        "\n",
        "for album in albums:\n",
        "    print(album['name'])"
      ],
      "metadata": {
        "colab": {
          "base_uri": "https://localhost:8080/"
        },
        "id": "8FJD1VNuiMA7",
        "outputId": "01a91b10-9ecf-4b1d-83e8-1a0a0261d40d"
      },
      "execution_count": 125,
      "outputs": [
        {
          "output_type": "stream",
          "name": "stdout",
          "text": [
            "Hell's Kitchen (Original Broadway Cast Recording) (Deluxe Edition)\n",
            "Hell’s Kitchen (Original Broadway Cast Recording)\n",
            "The Diary Of Alicia Keys 20\n",
            "Inolvidable Mexico City Mexico (Live from Auditorio Nacional Mexico City, Mexico)\n",
            "Inolvidable Bogota Colombia (Live from Movistar Arena Bogota, Colombia)\n",
            "Inolvidable Santiago Chile (Live from Movistar Arena Santiago, Chile)\n",
            "Inolvidable Buenos Aires Argentina (Live from Movistar Arena Buenos Aires, Argentina)\n",
            "Inesquecivel Sao Paulo Brazil (Live From Allianz Parque Sao Paulo Brazil)\n",
            "Queen Charlotte: A Bridgerton Story (Covers from the Netflix Series)\n",
            "Santa Baby\n",
            "KEYS II\n",
            "KEYS\n",
            "ALICIA: The Selects\n",
            "ALICIA\n",
            "HERE\n",
            "Alicia Keys - VH1 Storytellers\n",
            "Girl On Fire\n",
            "The Element Of Freedom\n",
            "As I Am (Expanded Edition)\n",
            "No One (Remixes)\n",
            "Unplugged\n",
            "If I Ain't Got You (Remixes)\n",
            "The Diary Of Alicia Keys (Expanded Edition)\n",
            "The Diary Of Alicia Keys\n",
            "Songs In A Minor (Deluxe Edition)\n",
            "Songs In A Minor\n"
          ]
        }
      ]
    },
    {
      "cell_type": "code",
      "source": [
        "# canciones mas populares\n",
        "songs = []\n",
        "for track in top['tracks']:\n",
        "    songs.append({\n",
        "        'name': track['name'],\n",
        "        'popularity': track['popularity'],\n",
        "        'duration_min': track['duration_ms'] / 60000\n",
        "    })\n",
        "\n",
        "for song in songs:\n",
        "    print(f\"{song['name']} | Popularidad: {song['popularity']} | Duración: {song['duration_min']} min\")\n"
      ],
      "metadata": {
        "colab": {
          "base_uri": "https://localhost:8080/"
        },
        "id": "TmSrUYcYa20r",
        "outputId": "9a3c1dbb-136a-45ba-aa36-987ca993c8a1"
      },
      "execution_count": 107,
      "outputs": [
        {
          "output_type": "stream",
          "name": "stdout",
          "text": [
            "If I Ain't Got You | Popularidad: 84 | Duración: 3.8117666666666667 min\n",
            "My Boo | Popularidad: 82 | Duración: 3.724 min\n",
            "No One | Popularidad: 79 | Duración: 4.24205 min\n",
            "Fallin' | Popularidad: 79 | Duración: 3.5033333333333334 min\n",
            "Girl on Fire | Popularidad: 78 | Duración: 3.748666666666667 min\n",
            "Un-thinkable (I'm Ready) (feat. Drake) - Remix | Popularidad: 76 | Duración: 4.700433333333334 min\n",
            "Finally | Popularidad: 74 | Duración: 3.59305 min\n",
            "Empire State of Mind (Part II) Broken Down | Popularidad: 73 | Duración: 3.608 min\n",
            "You Don't Know My Name | Popularidad: 70 | Duración: 6.112216666666667 min\n",
            "Un-thinkable (I'm Ready) | Popularidad: 69 | Duración: 4.154 min\n"
          ]
        }
      ]
    },
    {
      "cell_type": "markdown",
      "source": [
        "#Transformar a Pandas DataFrame"
      ],
      "metadata": {
        "id": "HI9xq8fMjRZM"
      }
    },
    {
      "cell_type": "code",
      "source": [
        "# Analizar relación estadística\n",
        "df = pd.DataFrame(songs)\n",
        "df_numericas = df[['popularity', 'duration_min']]\n",
        "print(df_numericas.corr())\n"
      ],
      "metadata": {
        "colab": {
          "base_uri": "https://localhost:8080/"
        },
        "id": "JIocwn1hekGN",
        "outputId": "24b7b5dd-e96c-4c76-fea7-faef59ed094b"
      },
      "execution_count": 118,
      "outputs": [
        {
          "output_type": "stream",
          "name": "stdout",
          "text": [
            "              popularity  duration_min\n",
            "popularity       1.00000      -0.47529\n",
            "duration_min    -0.47529       1.00000\n"
          ]
        }
      ]
    },
    {
      "cell_type": "code",
      "source": [
        "import seaborn as sns\n",
        "sns.heatmap(df_numericas.corr(), annot=True, cmap='YlGnBu')\n",
        "plt.title(\"Correlación entre Popularidad y Duración\")\n",
        "plt.show()"
      ],
      "metadata": {
        "colab": {
          "base_uri": "https://localhost:8080/",
          "height": 453
        },
        "id": "oPxDAeCcgj3E",
        "outputId": "21831616-0081-444c-a3d5-240ce8cf005c"
      },
      "execution_count": 119,
      "outputs": [
        {
          "output_type": "display_data",
          "data": {
            "text/plain": [
              "<Figure size 640x480 with 2 Axes>"
            ],
            "image/png": "[encoded data removed]"
          },
          "metadata": {}
        }
      ]
    },
    {
      "cell_type": "code",
      "source": [
        "sns.scatterplot(data=df, x='duration_min', y='popularity')\n",
        "plt.title('Duración vs Popularidad')\n",
        "plt.show()"
      ],
      "metadata": {
        "colab": {
          "base_uri": "https://localhost:8080/",
          "height": 472
        },
        "id": "Mg_01gFAe1ub",
        "outputId": "1a384f3a-4f2a-42e6-9746-09f17e4c3e66"
      },
      "execution_count": 120,
      "outputs": [
        {
          "output_type": "display_data",
          "data": {
            "text/plain": [
              "<Figure size 640x480 with 1 Axes>"
            ],
            "image/png": "[encoded data removed]"
          },
          "metadata": {}
        }
      ]
    },
    {
      "cell_type": "markdown",
      "source": [
        "El análisis de correlación entre la duración (en minutos) y la popularidad de las canciones muestra un coeficiente de -0.475, lo que indica una correlación negativa moderada. Esto sugiere que, en general, las canciones más largas tienden a ser menos populares, al menos en el caso del artista analizado."
      ],
      "metadata": {
        "id": "HWPQBbjIijnD"
      }
    }
  ]
}